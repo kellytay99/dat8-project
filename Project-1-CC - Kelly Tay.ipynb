{
 "cells": [
  {
   "cell_type": "markdown",
   "metadata": {},
   "source": [
    "<img src=\"http://imgur.com/1ZcRyrc.png\" style=\"float: left; margin: 20px; height: 55px\">\n",
    "\n",
    "# Project 1: Python Coding Exercises\n",
    "\n",
    "_Authors: Joseph Nelson (DC) _\n",
    "\n",
    "---"
   ]
  },
  {
   "cell_type": "markdown",
   "metadata": {},
   "source": [
    "The following code challenges are drawn from common exercises used in technical interviews.\n",
    "\n",
    "Please note that there may be several ways to approach each challenge. If you get stuck, try mapping out your approach in pseudocode first. Finally, while solutions to problems like these may be found online, remember that if you copy/paste code that you can't explain, you'll be missing out on the point of the project. The only way to truly learn a new skill is through practice, trial, and error - we can only help you improve by understanding where you are having trouble."
   ]
  },
  {
   "cell_type": "markdown",
   "metadata": {},
   "source": [
    "### Challenge 1: Largest Palindrome\n",
    "A palindromic number reads the same both ways. For example, 1234321 is a palindrome. The largest palindrome made from the product of two two-digit numbers is 9009 = 91 × 99. Find the largest palindrome made from the product of two three-digit numbers. Afterward, write a brief explanation walking through your code's logic in markdown."
   ]
  },
  {
   "cell_type": "markdown",
   "metadata": {},
   "source": [
    "### Challenge 1: Brief Explanation\n",
    "1. Create a function to take in start and stop integer for range function with default step=-1, start from biggest three-digit number\n",
    "2. Pass in 3 digit number,100 and 999\n",
    "3. Create a empty List\n",
    "4. A for loop for number range from 100 and 999\n",
    "5. A inner for loop for number range from 100 and 999\n",
    "6. Assign multiply of number in loop and cast to string to variable x\n",
    "7. Assign product of division to variable x_count.  This will be use as index number for x string\n",
    "7. If front integer equal to backward integer, add the number to number_list\n",
    "8. Return the max interger value in number_list with palindrome number"
   ]
  },
  {
   "cell_type": "code",
   "execution_count": 17,
   "metadata": {},
   "outputs": [
    {
     "data": {
      "text/plain": [
       "906609"
      ]
     },
     "execution_count": 17,
     "metadata": {},
     "output_type": "execute_result"
    }
   ],
   "source": [
    "def find_palindrome(endint,startint):\n",
    "    number_list = []\n",
    "    for i in range(endint,startint,-1):\n",
    "        for j in range(endint,startint,-1):\n",
    "            x = str(i * j)\n",
    "            x_count = int(len(x)/2)\n",
    "            f=x[:x_count]\n",
    "            b=x[x_count:][::-1]\n",
    "            if (f==b):\n",
    "                number_list.append(int(x))\n",
    "    return max(number_list)\n",
    "\n",
    "find_palindrome(999,100)"
   ]
  },
  {
   "cell_type": "markdown",
   "metadata": {},
   "source": [
    "# ### Challenge 2: Summation of Primes\n",
    "The sum of the primes below 10 is 2 + 3 + 5 + 7 = 17. Find the sum of all the primes below 2,000. Afterward, write a brief explanation walking through your code's logic in markdown."
   ]
  },
  {
   "cell_type": "markdown",
   "metadata": {},
   "source": [
    "# ### Challenge 2: Brief explanation\n",
    "\n",
    "1. Create a function to take in number=2000 as stop integer for range function with default step=1\n",
    "2. Assign 0 to variable primes_sum before loop thru the numbers below 2000\n",
    "3. If condition to check if remainder of i divide by 2 is 1, which is odd number\n",
    "4. If number greater than 1, sum up all odd number below 2000\n",
    "5. Assign sum of all primes number and number 2 to variable sum_of_primes_number\n",
    "6. print variable sum_of_primes_number\n"
   ]
  },
  {
   "cell_type": "code",
   "execution_count": 66,
   "metadata": {},
   "outputs": [
    {
     "name": "stdout",
     "output_type": "stream",
     "text": [
      "1000001\n"
     ]
    }
   ],
   "source": [
    "def find_primes(maxint):\n",
    "    primes_sum=0\n",
    "    for i in range(maxint):\n",
    "        if (i % 2 == 1): \n",
    "            if(i > 1):\n",
    "                primes_sum = primes_sum + i\n",
    "    return primes_sum + 2\n",
    "\n",
    "sum_of_primes_number = find_primes(2000)\n",
    "print(sum_of_primes_number)"
   ]
  },
  {
   "cell_type": "markdown",
   "metadata": {},
   "source": [
    "### Challenge 3: Multiples of 3 and 5\n",
    "If we list all of the natural numbers below 10 that are multiples of 3 or 5, we get 3, 5, 6, and 9. The sum of these multiples is 23. Find the sum of all the multiples of 3 and 5 below 1,000. Afterward, write a brief explanation walking through your code's logic in markdown."
   ]
  },
  {
   "cell_type": "markdown",
   "metadata": {},
   "source": [
    "### Challenge 3: Brief Explanation\n",
    "\n",
    "1. Create a function to take in maximum number for range function\n",
    "2. Create variable num and assign value 0\n",
    "3. It is natural number if remaider divide by 3 or 5 or 15 is 0\n",
    "4. Sum of num for all natural number\n",
    "5. Return variable num"
   ]
  },
  {
   "cell_type": "code",
   "execution_count": 95,
   "metadata": {},
   "outputs": [
    {
     "data": {
      "text/plain": [
       "233168"
      ]
     },
     "execution_count": 95,
     "metadata": {},
     "output_type": "execute_result"
    }
   ],
   "source": [
    "def findNatural(maxint):\n",
    "    num=0\n",
    "    for i in range(maxint):\n",
    "        if i % 3 == 0 or i % 5 == 0 or i % 15 == 0: \n",
    "            num = num + i\n",
    "    return num\n",
    "\n",
    "findNatural(1000)"
   ]
  },
  {
   "cell_type": "markdown",
   "metadata": {},
   "source": [
    "### Challenge 4: String Compressor\n",
    "Implement a method to perform basic string compression using the counts of repeated characters. (This is called run-length encoding.) For example, the string \"aabcccccaaa\" would become a2b1c5a3. If the “compressed” string would not become smaller than the original string, your method should return the original string. You can assume the string has only uppercase and lowercase letters (a–z). Specify whether your solution is case sensitive or case insensitive and what you would need to change to make it the other. Afterward, write a brief explanation walking through your code's logic in markdown."
   ]
  },
  {
   "cell_type": "code",
   "execution_count": 73,
   "metadata": {},
   "outputs": [
    {
     "ename": "SyntaxError",
     "evalue": "'return' outside function (<ipython-input-73-8ee5878182da>, line 20)",
     "output_type": "error",
     "traceback": [
      "\u001b[1;36m  File \u001b[1;32m\"<ipython-input-73-8ee5878182da>\"\u001b[1;36m, line \u001b[1;32m20\u001b[0m\n\u001b[1;33m    return index_list\u001b[0m\n\u001b[1;37m    ^\u001b[0m\n\u001b[1;31mSyntaxError\u001b[0m\u001b[1;31m:\u001b[0m 'return' outside function\n"
     ]
    }
   ],
   "source": [
    "from itertools import *\n",
    "def encode(l):\n",
    "    return [(len(list(group)),name) for name, group in groupby(l)]\n",
    "\n",
    "encode_list=encode(\"aaabbbbccccc\")\n",
    "count_list=len(encode_list)\n",
    "encode_list\n",
    "\n",
    "for i,j in (encode_list):\n",
    "    print(i,j)\n",
    "    print(encode_list[0][0])\n",
    "    x = 0\n",
    "    while x > encode_list[0][0]:\n",
    "        index_list = []\n",
    "        print(x)\n",
    "        if x > 0:\n",
    "            index_list.append(encode_list[x].replace(x))\n",
    "            x = x+1\n",
    "\n",
    "            return index_list\n",
    "\n",
    "    "
   ]
  },
  {
   "cell_type": "code",
   "execution_count": null,
   "metadata": {},
   "outputs": [],
   "source": []
  },
  {
   "cell_type": "code",
   "execution_count": 44,
   "metadata": {},
   "outputs": [
    {
     "data": {
      "text/plain": [
       "'[0, 1, 2]'"
      ]
     },
     "execution_count": 44,
     "metadata": {},
     "output_type": "execute_result"
    }
   ],
   "source": [
    "word=\"aaabbbbccccc\"\n",
    "set(list(word))\n",
    "a_index=get_index(\"a\", list(word))\n",
    "str(a_index)\n"
   ]
  },
  {
   "cell_type": "code",
   "execution_count": 45,
   "metadata": {},
   "outputs": [],
   "source": [
    "def get_index(value,input_list):\n",
    "    index_list = []\n",
    "    idx = -1\n",
    "    while True:\n",
    "        try:\n",
    "            idx = input_list.index(value, idx+1)\n",
    "            index_list.append(idx)\n",
    "        except ValueError:\n",
    "            break\n",
    "    return index_list\n",
    "\n",
    "\n",
    "word=\"aaabbbbccccc\"\n",
    "word=set(list(word))\n",
    "\n",
    "#a_index=get_index(\"a\", list(word))\n",
    "#a_index\n",
    "#b_index=get_index(\"b\", list(word))\n",
    "#b_index\n",
    "#c_index=get_index(\"c\", list(word))\n",
    "#c_index\n",
    "\n"
   ]
  },
  {
   "cell_type": "markdown",
   "metadata": {},
   "source": [
    "### *BONUS* Challenge: FizzBuzz\n",
    "Write a program that prints all of the numbers from 1 to 100. For multiples of 3, instead of the number, print \"Fizz;\" for multiples of 5, print \"Buzz.\" For numbers that are multiples of both 3 and 5, print \"FizzBuzz.\" Afterward, write a brief explanation walking through your code's logic in markdown."
   ]
  },
  {
   "cell_type": "code",
   "execution_count": 2,
   "metadata": {},
   "outputs": [
    {
     "name": "stdout",
     "output_type": "stream",
     "text": [
      "1\n",
      "2\n",
      "FizzBuzz.\n",
      "4\n",
      "Buzz.\n",
      "FizzBuzz.\n",
      "7\n",
      "8\n",
      "FizzBuzz.\n",
      "Buzz.\n",
      "11\n",
      "FizzBuzz.\n",
      "13\n",
      "14\n",
      "FizzBuzz.\n",
      "16\n",
      "17\n",
      "FizzBuzz.\n",
      "19\n",
      "Buzz.\n",
      "FizzBuzz.\n",
      "22\n",
      "23\n",
      "FizzBuzz.\n",
      "Buzz.\n",
      "26\n",
      "FizzBuzz.\n",
      "28\n",
      "29\n",
      "FizzBuzz.\n",
      "31\n",
      "32\n",
      "FizzBuzz.\n",
      "34\n",
      "Buzz.\n",
      "FizzBuzz.\n",
      "37\n",
      "38\n",
      "FizzBuzz.\n",
      "Buzz.\n",
      "41\n",
      "FizzBuzz.\n",
      "43\n",
      "44\n",
      "FizzBuzz.\n",
      "46\n",
      "47\n",
      "FizzBuzz.\n",
      "49\n",
      "Buzz.\n",
      "FizzBuzz.\n",
      "52\n",
      "53\n",
      "FizzBuzz.\n",
      "Buzz.\n",
      "56\n",
      "FizzBuzz.\n",
      "58\n",
      "59\n",
      "FizzBuzz.\n",
      "61\n",
      "62\n",
      "FizzBuzz.\n",
      "64\n",
      "Buzz.\n",
      "FizzBuzz.\n",
      "67\n",
      "68\n",
      "FizzBuzz.\n",
      "Buzz.\n",
      "71\n",
      "FizzBuzz.\n",
      "73\n",
      "74\n",
      "FizzBuzz.\n",
      "76\n",
      "77\n",
      "FizzBuzz.\n",
      "79\n",
      "Buzz.\n",
      "FizzBuzz.\n",
      "82\n",
      "83\n",
      "FizzBuzz.\n",
      "Buzz.\n",
      "86\n",
      "FizzBuzz.\n",
      "88\n",
      "89\n",
      "FizzBuzz.\n",
      "91\n",
      "92\n",
      "FizzBuzz.\n",
      "94\n",
      "Buzz.\n",
      "FizzBuzz.\n",
      "97\n",
      "98\n",
      "FizzBuzz.\n",
      "Buzz.\n"
     ]
    }
   ],
   "source": [
    "for i in range(1,101,1):\n",
    "    if ((i % 3) == 0 & (i % 5) == 0):\n",
    "        print(\"FizzBuzz.\")\n",
    "    elif (i % 3 == 0):\n",
    "        print(\"Fizz.\")\n",
    "    elif (i % 5 == 0):\n",
    "        print(\"Buzz.\")\n",
    "    else:\n",
    "        print(str(i))"
   ]
  },
  {
   "cell_type": "code",
   "execution_count": null,
   "metadata": {},
   "outputs": [],
   "source": []
  }
 ],
 "metadata": {
  "anaconda-cloud": {},
  "kernelspec": {
   "display_name": "Python 3",
   "language": "python",
   "name": "python3"
  },
  "language_info": {
   "codemirror_mode": {
    "name": "ipython",
    "version": 3
   },
   "file_extension": ".py",
   "mimetype": "text/x-python",
   "name": "python",
   "nbconvert_exporter": "python",
   "pygments_lexer": "ipython3",
   "version": "3.6.4"
  }
 },
 "nbformat": 4,
 "nbformat_minor": 2
}
